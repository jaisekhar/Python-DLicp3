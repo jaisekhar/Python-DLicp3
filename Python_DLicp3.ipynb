{
  "nbformat": 4,
  "nbformat_minor": 0,
  "metadata": {
    "colab": {
      "name": "Python_DLicp3.ipynb",
      "provenance": []
    },
    "kernelspec": {
      "name": "python3",
      "display_name": "Python 3"
    }
  },
  "cells": [
    {
      "cell_type": "markdown",
      "metadata": {
        "id": "M1ox3VuMkLvx",
        "colab_type": "text"
      },
      "source": [
        "# CSEE5590/490-Session1: Python and Deep Learning Programming (2020 Spring)\n",
        "\n",
        "## Task-1 & Bonus-1\n"
      ]
    },
    {
      "cell_type": "code",
      "metadata": {
        "id": "oALDugu7DCWz",
        "colab_type": "code",
        "colab": {
          "base_uri": "https://localhost:8080/",
          "height": 930
        },
        "outputId": "59974138-227e-4dbf-f054-a74044073f7c"
      },
      "source": [
        "%tensorflow_version 1.x\n",
        "from keras.models import Sequential\n",
        "from keras import layers\n",
        "from keras.preprocessing.text import Tokenizer\n",
        "import pandas as pd\n",
        "from sklearn import preprocessing\n",
        "from sklearn.model_selection import train_test_split\n",
        "\n",
        "df = pd.read_csv('/content/drive/My Drive/python/imdb_master.csv',encoding='latin-1')\n",
        "print(df.head())\n",
        "sentences = df['review'].values\n",
        "y = df['label'].values\n",
        "\n",
        "\n",
        "#tokenizing data\n",
        "tokenizer = Tokenizer(num_words=2000)\n",
        "tokenizer.fit_on_texts(sentences)\n",
        "#getting the vocabulary of data\n",
        "sentences = tokenizer.texts_to_matrix(sentences)\n",
        "\n",
        "le = preprocessing.LabelEncoder()\n",
        "y = le.fit_transform(y)\n",
        "X_train, X_test, y_train, y_test = train_test_split(sentences, y, test_size=0.25, random_state=1000)\n",
        "\n",
        "# Number of features\n",
        "# print(input_dim)\n",
        "model = Sequential()\n",
        "model.add(layers.Dense(300,input_dim=2000, activation='relu'))\n",
        "model.add(layers.Dense(3, activation='softmax'))\n",
        "model.compile(loss='sparse_categorical_crossentropy',optimizer='adam',metrics=['acc'])\n",
        "history=model.fit(X_train,y_train, epochs=5, verbose=True, validation_data=(X_test,y_test), batch_size=256)\n",
        "\n",
        "[test_loss, test_acc] = model.evaluate(X_test,y_test)\n",
        "print(\"Evaluation result on Test Data : Loss = {}, accuracy = {}\".format(test_loss, test_acc))\n",
        "\n",
        "# Accuracy plot for train and validation datasets\n",
        "import matplotlib.pyplot as plt\n",
        "plt.plot(history.history['acc'])\n",
        "plt.plot(history.history['val_acc'])\n",
        "plt.title('model accuracy')\n",
        "plt.ylabel('accuracy')\n",
        "plt.xlabel('epoch')\n",
        "plt.legend(['train', 'val'], loc='upper left')\n",
        "plt.show()\n",
        "\n",
        "# Loss plot for train and validation datasets\n",
        "plt.plot(history.history['loss'])\n",
        "plt.plot(history.history['val_loss'])\n",
        "plt.title('model loss')\n",
        "plt.ylabel('loss')\n",
        "plt.xlabel('epoch')\n",
        "plt.legend(['train', 'val'], loc='upper left')\n",
        "plt.show()"
      ],
      "execution_count": 13,
      "outputs": [
        {
          "output_type": "stream",
          "text": [
            "   Unnamed: 0  type  ... label         file\n",
            "0           0  test  ...   neg      0_2.txt\n",
            "1           1  test  ...   neg  10000_4.txt\n",
            "2           2  test  ...   neg  10001_1.txt\n",
            "3           3  test  ...   neg  10002_3.txt\n",
            "4           4  test  ...   neg  10003_3.txt\n",
            "\n",
            "[5 rows x 5 columns]\n",
            "Train on 75000 samples, validate on 25000 samples\n",
            "Epoch 1/5\n",
            "75000/75000 [==============================] - 8s 102us/step - loss: 0.8797 - acc: 0.5055 - val_loss: 0.8413 - val_acc: 0.5130\n",
            "Epoch 2/5\n",
            "75000/75000 [==============================] - 7s 99us/step - loss: 0.7899 - acc: 0.5775 - val_loss: 0.8423 - val_acc: 0.5189\n",
            "Epoch 3/5\n",
            "75000/75000 [==============================] - 7s 99us/step - loss: 0.6869 - acc: 0.6764 - val_loss: 0.8734 - val_acc: 0.5153\n",
            "Epoch 4/5\n",
            "75000/75000 [==============================] - 7s 100us/step - loss: 0.4994 - acc: 0.8125 - val_loss: 0.9487 - val_acc: 0.5150\n",
            "Epoch 5/5\n",
            "75000/75000 [==============================] - 7s 100us/step - loss: 0.2917 - acc: 0.9237 - val_loss: 1.0677 - val_acc: 0.5088\n",
            "25000/25000 [==============================] - 2s 66us/step\n",
            "Evaluation result on Test Data : Loss = 1.0677436121368409, accuracy = 0.5088000297546387\n"
          ],
          "name": "stdout"
        },
        {
          "output_type": "display_data",
          "data": {
            "image/png": "[encoded data removed]",
            "text/plain": [
              "<Figure size 432x288 with 1 Axes>"
            ]
          },
          "metadata": {
            "tags": [],
            "needs_background": "light"
          }
        },
        {
          "output_type": "display_data",
          "data": {
            "image/png": "[encoded data removed]",
            "text/plain": [
              "<Figure size 432x288 with 1 Axes>"
            ]
          },
          "metadata": {
            "tags": [],
            "needs_background": "light"
          }
        }
      ]
    },
    {
      "cell_type": "markdown",
      "metadata": {
        "id": "uedkCJ-ikgy5",
        "colab_type": "text"
      },
      "source": [
        "## Task-2"
      ]
    },
    {
      "cell_type": "code",
      "metadata": {
        "id": "sUMen907Y3Qg",
        "colab_type": "code",
        "colab": {
          "base_uri": "https://localhost:8080/",
          "height": 272
        },
        "outputId": "5472716e-b729-4baf-c955-5d38314dbbfc"
      },
      "source": [
        "%tensorflow_version 1.x\n",
        "from keras.models import Sequential\n",
        "from keras import layers\n",
        "from keras.layers.embeddings import Embedding\n",
        "from keras.layers import Flatten\n",
        "from keras.preprocessing.text import Tokenizer\n",
        "import pandas as pd\n",
        "from sklearn import preprocessing\n",
        "from sklearn.model_selection import train_test_split\n",
        "from keras.preprocessing.sequence import pad_sequences\n",
        "\n",
        "df = pd.read_csv('/content/drive/My Drive/python/imdb_master.csv',encoding='latin-1')\n",
        "print(df.head())\n",
        "sentences = df['review'].values\n",
        "y = df['label'].values\n",
        "\n",
        "\n",
        "#tokenizing data\n",
        "tokenizer = Tokenizer(num_words=2000)\n",
        "tokenizer.fit_on_texts(sentences)\n",
        "\n",
        "\n",
        "max_review_len = max([len(s.split()) for s in sentences])\n",
        "vocab_size = len(tokenizer.word_index)+1\n",
        "\n",
        "#getting the vocabulary of data\n",
        "sentences = tokenizer.texts_to_sequences(sentences)\n",
        "padded_docs = pad_sequences(sentences, maxlen=max_review_len)\n",
        "\n",
        "le = preprocessing.LabelEncoder()\n",
        "y = le.fit_transform(y)\n",
        "\n",
        "X_train, X_test, y_train, y_test = train_test_split(padded_docs, y, test_size=0.25, random_state=1000)\n",
        "\n",
        "# Number of features\n",
        "# print(input_dim)\n",
        "model = Sequential()\n",
        "model.add(Embedding(vocab_size, 50, input_length=max_review_len))\n",
        "model.add(Flatten())\n",
        "model.add(layers.Dense(300, activation='relu'))\n",
        "model.add(layers.Dense(3, activation='softmax'))\n",
        "model.compile(loss='sparse_categorical_crossentropy',optimizer='adam',metrics=['acc'])\n",
        "history=model.fit(X_train,y_train, epochs=2, verbose=True, validation_data=(X_test,y_test), batch_size=256)\n",
        "\n",
        "[test_loss, test_acc] = model.evaluate(X_test,y_test)\n",
        "print(\"Evaluation result on Test Data : Loss = {}, accuracy = {}\".format(test_loss, test_acc))"
      ],
      "execution_count": 11,
      "outputs": [
        {
          "output_type": "stream",
          "text": [
            "   Unnamed: 0  type  ... label         file\n",
            "0           0  test  ...   neg      0_2.txt\n",
            "1           1  test  ...   neg  10000_4.txt\n",
            "2           2  test  ...   neg  10001_1.txt\n",
            "3           3  test  ...   neg  10002_3.txt\n",
            "4           4  test  ...   neg  10003_3.txt\n",
            "\n",
            "[5 rows x 5 columns]\n",
            "Train on 75000 samples, validate on 25000 samples\n",
            "Epoch 1/2\n",
            "75000/75000 [==============================] - 500s 7ms/step - loss: 1.1533 - acc: 0.4885 - val_loss: 0.9887 - val_acc: 0.5009\n",
            "Epoch 2/2\n",
            "75000/75000 [==============================] - 503s 7ms/step - loss: 0.8937 - acc: 0.5070 - val_loss: 0.8641 - val_acc: 0.4964\n",
            "25000/25000 [==============================] - 50s 2ms/step\n",
            "Evaluation result on Test Data : Loss = 0.8641079890823364, accuracy = 0.49639999866485596\n"
          ],
          "name": "stdout"
        }
      ]
    },
    {
      "cell_type": "markdown",
      "metadata": {
        "id": "QlSEG99okkrz",
        "colab_type": "text"
      },
      "source": [
        "## Task-3"
      ]
    },
    {
      "cell_type": "code",
      "metadata": {
        "id": "yaMqT8L4dsgO",
        "colab_type": "code",
        "colab": {
          "base_uri": "https://localhost:8080/",
          "height": 170
        },
        "outputId": "be84764e-a778-46d8-aa91-d267a85c25e9"
      },
      "source": [
        "%tensorflow_version 1.x\n",
        "from keras.models import Sequential\n",
        "from keras import layers\n",
        "from keras.layers.embeddings import Embedding\n",
        "from keras.layers import Flatten\n",
        "from keras.preprocessing.text import Tokenizer\n",
        "import pandas as pd\n",
        "from sklearn import preprocessing\n",
        "from sklearn.model_selection import train_test_split\n",
        "from keras.preprocessing.sequence import pad_sequences\n",
        "\n",
        "from sklearn.datasets import fetch_20newsgroups\n",
        "newsgroups_train =fetch_20newsgroups(subset='train', shuffle=True)\n",
        "sentences = newsgroups_train.data\n",
        "y = newsgroups_train.target\n",
        "\n",
        "\n",
        "#tokenizing data\n",
        "tokenizer = Tokenizer(num_words=2000)\n",
        "tokenizer.fit_on_texts(sentences)\n",
        "\n",
        "\n",
        "max_review_len = max([len(s.split()) for s in sentences])\n",
        "vocab_size = len(tokenizer.word_index)+1\n",
        "\n",
        "#getting the vocabulary of data\n",
        "sentences = tokenizer.texts_to_sequences(sentences)\n",
        "padded_docs = pad_sequences(sentences, maxlen=max_review_len)\n",
        "\n",
        "le = preprocessing.LabelEncoder()\n",
        "y = le.fit_transform(y)\n",
        "\n",
        "X_train, X_test, y_train, y_test = train_test_split(padded_docs, y, test_size=0.25, random_state=1000)\n",
        "\n",
        "# Number of features\n",
        "# print(input_dim)\n",
        "model = Sequential()\n",
        "model.add(Embedding(vocab_size, 50, input_length=max_review_len))\n",
        "model.add(Flatten())\n",
        "model.add(layers.Dense(300, activation='relu'))\n",
        "model.add(layers.Dense(20, activation='softmax'))\n",
        "model.compile(loss='sparse_categorical_crossentropy',optimizer='adam',metrics=['acc'])\n",
        "history=model.fit(X_train,y_train, epochs=2, verbose=True, validation_data=(X_test,y_test), batch_size=256)\n",
        "\n",
        "[test_loss, test_acc] = model.evaluate(X_test,y_test)\n",
        "print(\"Evaluation result on Test Data : Loss = {}, accuracy = {}\".format(test_loss, test_acc))"
      ],
      "execution_count": 12,
      "outputs": [
        {
          "output_type": "stream",
          "text": [
            "Downloading 20news dataset. This may take a few minutes.\n",
            "Downloading dataset from https://ndownloader.figshare.com/files/5975967 (14 MB)\n"
          ],
          "name": "stderr"
        },
        {
          "output_type": "stream",
          "text": [
            "Train on 8485 samples, validate on 2829 samples\n",
            "Epoch 1/2\n",
            "8485/8485 [==============================] - 271s 32ms/step - loss: 9.2256 - acc: 0.0539 - val_loss: 3.0426 - val_acc: 0.0551\n",
            "Epoch 2/2\n",
            "8485/8485 [==============================] - 268s 32ms/step - loss: 2.9919 - acc: 0.0577 - val_loss: 2.9897 - val_acc: 0.0566\n",
            "2829/2829 [==============================] - 26s 9ms/step\n",
            "Evaluation result on Test Data : Loss = 2.989705608269485, accuracy = 0.05655708909034729\n"
          ],
          "name": "stdout"
        }
      ]
    }
  ]
}